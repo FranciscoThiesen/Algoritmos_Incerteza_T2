{
 "cells": [
  {
   "cell_type": "code",
   "execution_count": 1,
   "metadata": {},
   "outputs": [],
   "source": [
    "import numpy as np"
   ]
  },
  {
   "cell_type": "code",
   "execution_count": 8,
   "metadata": {},
   "outputs": [
    {
     "name": "stdout",
     "output_type": "stream",
     "text": [
      "[[0.000e+00 6.400e-01 6.400e-01 ... 6.100e+01 2.780e+02 1.000e+00]\n",
      " [2.100e-01 2.800e-01 5.000e-01 ... 1.010e+02 1.028e+03 1.000e+00]\n",
      " [6.000e-02 0.000e+00 7.100e-01 ... 4.850e+02 2.259e+03 1.000e+00]\n",
      " ...\n",
      " [3.000e-01 0.000e+00 3.000e-01 ... 6.000e+00 1.180e+02 0.000e+00]\n",
      " [9.600e-01 0.000e+00 0.000e+00 ... 5.000e+00 7.800e+01 0.000e+00]\n",
      " [0.000e+00 0.000e+00 6.500e-01 ... 5.000e+00 4.000e+01 0.000e+00]]\n"
     ]
    },
    {
     "data": {
      "text/plain": [
       "[4.54,\n",
       " 14.28,\n",
       " 5.1,\n",
       " 42.81,\n",
       " 10.0,\n",
       " 5.88,\n",
       " 7.27,\n",
       " 11.11,\n",
       " 5.26,\n",
       " 18.18,\n",
       " 2.61,\n",
       " 9.67,\n",
       " 5.55,\n",
       " 10.0,\n",
       " 4.41,\n",
       " 20.0,\n",
       " 7.14,\n",
       " 9.09,\n",
       " 18.75,\n",
       " 18.18,\n",
       " 11.11,\n",
       " 17.1,\n",
       " 5.45,\n",
       " 12.5,\n",
       " 20.83,\n",
       " 16.66,\n",
       " 33.33,\n",
       " 9.09,\n",
       " 14.28,\n",
       " 5.88,\n",
       " 12.5,\n",
       " 4.76,\n",
       " 18.18,\n",
       " 4.76,\n",
       " 20.0,\n",
       " 7.69,\n",
       " 6.89,\n",
       " 8.33,\n",
       " 11.11,\n",
       " 4.76,\n",
       " 7.14,\n",
       " 14.28,\n",
       " 3.57,\n",
       " 20.0,\n",
       " 21.42,\n",
       " 22.05,\n",
       " 2.17,\n",
       " 10.0,\n",
       " 4.385,\n",
       " 9.752,\n",
       " 4.081,\n",
       " 32.478,\n",
       " 6.003,\n",
       " 19.829,\n",
       " 1102.5,\n",
       " 9989.0,\n",
       " 15841.0,\n",
       " 1.0]"
      ]
     },
     "execution_count": 8,
     "metadata": {},
     "output_type": "execute_result"
    }
   ],
   "source": [
    "data = np.loadtxt(\"data/spambase.data\", dtype='f', delimiter=',')\n",
    "\n",
    "print (data)\n",
    "\n",
    "max_value_in_data = [ 0 ] * 58\n",
    "\n",
    "for lin in data:\n",
    "    for x in range(0, 58):\n",
    "        max_value_in_data[x] = max( max_value_in_data[x], lin[x] )\n",
    "        \n",
    "max_value_in_data"
   ]
  },
  {
   "cell_type": "code",
   "execution_count": 3,
   "metadata": {},
   "outputs": [
    {
     "data": {
      "text/plain": [
       "4601"
      ]
     },
     "execution_count": 3,
     "metadata": {},
     "output_type": "execute_result"
    }
   ],
   "source": []
  },
  {
   "cell_type": "code",
   "execution_count": null,
   "metadata": {},
   "outputs": [],
   "source": []
  }
 ],
 "metadata": {
  "kernelspec": {
   "display_name": "Python 3",
   "language": "python",
   "name": "python3"
  },
  "language_info": {
   "codemirror_mode": {
    "name": "ipython",
    "version": 3
   },
   "file_extension": ".py",
   "mimetype": "text/x-python",
   "name": "python",
   "nbconvert_exporter": "python",
   "pygments_lexer": "ipython3",
   "version": "3.7.3"
  }
 },
 "nbformat": 4,
 "nbformat_minor": 2
}
