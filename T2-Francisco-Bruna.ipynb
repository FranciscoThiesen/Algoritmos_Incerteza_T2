{
 "cells": [
  {
   "cell_type": "code",
   "execution_count": 11,
   "metadata": {},
   "outputs": [],
   "source": [
    "import numpy as np"
   ]
  },
  {
   "cell_type": "code",
   "execution_count": 12,
   "metadata": {},
   "outputs": [
    {
     "name": "stdout",
     "output_type": "stream",
     "text": [
      "[[0.000e+00 6.400e-01 6.400e-01 ... 6.100e+01 2.780e+02 1.000e+00]\n",
      " [2.100e-01 2.800e-01 5.000e-01 ... 1.010e+02 1.028e+03 1.000e+00]\n",
      " [6.000e-02 0.000e+00 7.100e-01 ... 4.850e+02 2.259e+03 1.000e+00]\n",
      " ...\n",
      " [3.000e-01 0.000e+00 3.000e-01 ... 6.000e+00 1.180e+02 0.000e+00]\n",
      " [9.600e-01 0.000e+00 0.000e+00 ... 5.000e+00 7.800e+01 0.000e+00]\n",
      " [0.000e+00 0.000e+00 6.500e-01 ... 5.000e+00 4.000e+01 0.000e+00]]\n"
     ]
    }
   ],
   "source": [
    "data = np.loadtxt(\"data/spambase.data\", dtype='f', delimiter=',')\n",
    "\n",
    "print (data)\n",
    "\n",
    "max_value_in_data = [ 0 ] * 58\n",
    "\n",
    "for lin in data:\n",
    "    for x in range(0, 58):\n",
    "        max_value_in_data[x] = max( max_value_in_data[x], lin[x] )\n",
    "        "
   ]
  },
  {
   "cell_type": "markdown",
   "metadata": {},
   "source": [
    "Isso mostra que teremos que tratar os dados antes de rodar __Online SVM via Online Gradient Descent__\n",
    "\n",
    "Temos ao menos duas etapas:\n",
    "1 - Transformar os valores de classe ( variável target ) de 0, 1 para -1 ,1\n",
    "2 - Temos que fazer uma normalização dos parâmetros. Pois alguns dados são percentuais e estão no range [0, 100] e outros podem atingir valores maiores como por exemplo 15841. Não queremos que um atributo tenha uma importância maior que outro por ser representado em uma escala diferente. Vamos fazer uma normalização __hard__ que é mapear o maior valor de uma determinada feature para 1 e dividir os outros valores dessa feature específica pelo maior valor encontrado.\n",
    "\n",
    "Se a normalização hard se mostrar ruim na prática, podemos pensar em outras normalizações. ( Soft usando mediana e desvio-padrão )..\n",
    "\n"
   ]
  },
  {
   "cell_type": "code",
   "execution_count": 13,
   "metadata": {},
   "outputs": [],
   "source": [
    "# vamos alterar os valores da variável target de (0, 1) para (-1, 1)\n",
    "for lin in data:\n",
    "    if lin[57] == 0:\n",
    "        lin[57] = -1\n",
    "        \n",
    "# Agora vamos fazer a normalizacao hard\n",
    "normalized_data = data\n",
    "\n",
    "for lin in data:\n",
    "    for x in range(0, 57):\n",
    "        max_value_in_data[x] = max( max_value_in_data[x], lin[x] )\n",
    "        \n",
    "for lin in normalized_data:\n",
    "    for x in range(0, 57):\n",
    "        lin[x] = (lin[x] / max_value_in_data[x] )\n",
    "        "
   ]
  },
  {
   "cell_type": "markdown",
   "metadata": {},
   "source": [
    "Breve descrição de Online SVM via Online Gradient Descent\n",
    "* No instante t\n",
    "    * Selecionamos um vetor pt\n",
    "    * Recebemos uma nova instância do dataset (yt, zt), onde yt são os atributos e zt é a classe correspondente\n",
    "    * Vamos tomar uma Hinge Loss definida como max(0, 1 - zt * <pt, yt> )\n",
    "    * Utilizaremos o gradiente da função de perda do instante t para calcular o próximo p(t+1)\n",
    "    \n",
    "Vamos também utilizar sempre pt pertencente ao espaço euclideano de norma <= 1.\n",
    "\n",
    "A princípio o p0 pode ser definido arbitrariamente, mas como vimos descrito em alguns lugares da literatura a inicialização com o vetor nulo vamos adotar essa estratégia.\n",
    "   "
   ]
  },
  {
   "cell_type": "code",
   "execution_count": 14,
   "metadata": {},
   "outputs": [],
   "source": [
    "# Aqui algumas funções auxiliares úteis\n",
    "dimension = 57\n",
    "\n",
    "def dot_product( a, b ):\n",
    "    ans = 0\n",
    "    for x in range(dimension):\n",
    "        ans += ( a[x] * b[x] )\n",
    "    return ans\n",
    "\n",
    "def hinge_loss( p_t, z_t, y_t):\n",
    "    return max(0, 1 - dot_product(p_t, y_t) * z_t )\n",
    "\n",
    "def euclidean_norm( p_t ):\n",
    "    ans = 0\n",
    "    for coord in p_t:\n",
    "        ans += (coord ** 2)\n",
    "    return sqrt( ans )\n",
    "\n",
    "def project_into_euclidean_norm_1( p_t ):\n",
    "    norm = euclidean_norm( p_t )\n",
    "    if norm <= 1:\n",
    "        return p_t\n",
    "    \n",
    "    norm_p = p_t\n",
    "    for coord in norm_p:\n",
    "        coord = ( coord / norm )\n",
    "    return norm_p\n",
    "\n"
   ]
  },
  {
   "cell_type": "code",
   "execution_count": null,
   "metadata": {},
   "outputs": [],
   "source": [
    "# Vamos armazenar os pt obtidos ao longo do tempo, para poder analisar quão rápido o método alcança bons classificadores\n",
    "# E no final vamos testar os valores obtidos como classificadores para o dataset completo e analisar a acurácia\n",
    "all_p = []\n",
    "\n",
    "current_p = [0] * 57\n",
    "all_p.append(current_p)\n",
    "\n",
    "# Agora vamos processar o dataset uma instancia de cada vez, num setup online\n",
    "for instance in normalized_data:\n",
    "    instance_features = instance[0:57] # slices are semi-open intervals (:, [0, 57)\n",
    "    target_class = instance[57]\n",
    "    \n",
    "\n"
   ]
  }
 ],
 "metadata": {
  "kernelspec": {
   "display_name": "Python 3",
   "language": "python",
   "name": "python3"
  },
  "language_info": {
   "codemirror_mode": {
    "name": "ipython",
    "version": 3
   },
   "file_extension": ".py",
   "mimetype": "text/x-python",
   "name": "python",
   "nbconvert_exporter": "python",
   "pygments_lexer": "ipython3",
   "version": "3.7.3"
  }
 },
 "nbformat": 4,
 "nbformat_minor": 2
}
